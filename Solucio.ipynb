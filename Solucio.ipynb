{
  "cells": [
    {
      "cell_type": "code",
      "execution_count": 5,
      "id": "209177da",
      "metadata": {
        "scrolled": true,
        "id": "209177da"
      },
      "outputs": [],
      "source": [
        "import torch\n",
        "import torch.nn as nn\n",
        "import torch.nn.functional as F\n",
        "import torch.optim as optim\n",
        "from torchvision import transforms\n",
        "import torch.optim as optim\n",
        "from torch.utils.data import DataLoader\n",
        "\n",
        "import matplotlib.pyplot as plt\n",
        "import numpy as np\n",
        "import pandas as pd\n",
        "import cv2\n",
        "from PIL import Image\n",
        "import os, glob"
      ]
    },
    {
      "cell_type": "code",
      "source": [
        "# !unzip response.zip"
      ],
      "metadata": {
        "id": "UVHeivT4ywAa"
      },
      "id": "UVHeivT4ywAa",
      "execution_count": null,
      "outputs": []
    },
    {
      "cell_type": "markdown",
      "id": "1d65f689",
      "metadata": {
        "id": "1d65f689"
      },
      "source": [
        "# Create Data Structures"
      ]
    },
    {
      "cell_type": "code",
      "execution_count": 49,
      "id": "4d523f51",
      "metadata": {
        "scrolled": true,
        "id": "4d523f51"
      },
      "outputs": [],
      "source": [
        "N_IMAGES_TRAIN = 20_000\n",
        "TRAIN_BATCH_SIZE = 128\n",
        "TEST_BATCH_SIZE = 100"
      ]
    },
    {
      "cell_type": "code",
      "execution_count": 50,
      "id": "9d22e812",
      "metadata": {
        "scrolled": true,
        "id": "9d22e812"
      },
      "outputs": [],
      "source": [
        "# First we define a custom dataset class to be able to create the DataLoader properly\n",
        "\n",
        "class CustomImageDataset(torch.utils.data.Dataset):\n",
        "    def __init__(self, labels_file, img_dir, separator=',', img_type=\"png\",transform=None, max_images=None):\n",
        "        # As labels, we select the 'c' column of the dataset, which contains the number\n",
        "        # of circles of the image\n",
        "        aux = pd.read_csv(labels_file,sep=separator)\n",
        "        aux.drop(columns=aux.columns[0], axis=1,inplace=True)\n",
        "        aux.drop(columns=aux.columns[1:], axis=1, inplace=True)\n",
        "        self.img_labels = aux.to_numpy().squeeze()\n",
        "        if max_images is not None:\n",
        "            self.img_labels = self.img_labels[:max_images]\n",
        "        self.img_dir = img_dir\n",
        "        self.transform = transform\n",
        "        self.img_type = img_type\n",
        "\n",
        "    def __len__(self):\n",
        "        return len(self.img_labels)\n",
        "\n",
        "    def __getitem__(self, idx):\n",
        "        # To get the images, we transform the index to a 5 long string (so 28 -> 00028)\n",
        "        # and we use that to read the image.\n",
        "        img_name = str(idx).zfill(5)+'.'+self.img_type\n",
        "        img_path = os.path.join(self.img_dir, img_name)\n",
        "        image = cv2.imread(img_path,  cv2.IMREAD_GRAYSCALE)\n",
        "        label = self.img_labels[idx,]\n",
        "        if self.transform:\n",
        "            image = self.transform(image)\n",
        "            image = image.float()\n",
        "        label = torch.tensor(label, dtype=torch.float32)\n",
        "        return (image, label)"
      ]
    },
    {
      "cell_type": "code",
      "execution_count": 7,
      "id": "e97a42e8",
      "metadata": {
        "scrolled": true,
        "colab": {
          "base_uri": "https://localhost:8080/",
          "height": 286
        },
        "id": "e97a42e8",
        "outputId": "153afff7-978b-4ffc-f782-1f99606a8c20"
      },
      "outputs": [
        {
          "output_type": "display_data",
          "data": {
            "text/plain": [
              "<Figure size 432x288 with 1 Axes>"
            ],
            "image/png": "[encoded data removed]"
          },
          "metadata": {
            "needs_background": "light"
          }
        },
        {
          "output_type": "stream",
          "name": "stdout",
          "text": [
            "tensor(2.)\n"
          ]
        }
      ],
      "source": [
        "# Testing custom dataset is correctly constructed\n",
        "dummy_dataset = CustomImageDataset(labels_file='data/val/dades.csv', img_dir='data/val', separator=';')\n",
        "batch = next(iter(dummy_dataset))\n",
        "plt.imshow(batch[0], cmap='gray')\n",
        "plt.show()\n",
        "print(batch[1])"
      ]
    },
    {
      "cell_type": "code",
      "execution_count": 51,
      "id": "eff0293c",
      "metadata": {
        "scrolled": true,
        "id": "eff0293c"
      },
      "outputs": [],
      "source": [
        "transform=transforms.Compose([\n",
        "    transforms.ToTensor(),\n",
        "    transforms.Resize((128,128))\n",
        "])\n",
        "\n",
        "\n",
        "train_dataset = CustomImageDataset(labels_file='data/train/dades.csv', img_dir='data/train', separator=';', max_images=N_IMAGES_TRAIN, transform=transform)\n",
        "test_dataset = CustomImageDataset(labels_file='data/val/dades.csv', img_dir='data/val', separator=';', transform=transform)\n",
        "\n",
        "train_loader = DataLoader(train_dataset, TRAIN_BATCH_SIZE)\n",
        "test_loader = DataLoader(test_dataset, TEST_BATCH_SIZE)"
      ]
    },
    {
      "cell_type": "code",
      "execution_count": 64,
      "id": "edd8121f",
      "metadata": {
        "scrolled": true,
        "id": "edd8121f"
      },
      "outputs": [],
      "source": [
        "class FullyConvNet(nn.Module):\n",
        "    def __init__(self):\n",
        "        super(FullyConvNet, self).__init__()\n",
        "        self.conv = nn.Conv2d(in_channels=1, out_channels=2, kernel_size=3, stride=1, padding=\"same\")\n",
        "        self.conv2 = nn.Conv2d(in_channels=2, out_channels=4, kernel_size=3, stride=1, padding=\"same\")\n",
        "        self.conv3 = nn.Conv2d(in_channels=4, out_channels=8, kernel_size=3, stride=1, padding=\"same\")\n",
        "        self.conv4 = nn.Conv2d(in_channels=8, out_channels=16, kernel_size=3, stride=1, padding=\"same\")\n",
        "        self.conv5 = nn.Conv2d(in_channels=16, out_channels=8, kernel_size=3, stride=1, padding=\"same\")\n",
        "        self.conv6 = nn.Conv2d(in_channels=8, out_channels=4, kernel_size=3, stride=1, padding=\"same\")\n",
        "        self.conv7 = nn.Conv2d(in_channels=4, out_channels=2, kernel_size=3, stride=1, padding=\"same\")\n",
        "        self.conv8 = nn.Conv2d(in_channels=2, out_channels=1, kernel_size=3, stride=1, padding=\"same\")\n",
        "        self.max_pool = nn.MaxPool2d(kernel_size=2, stride=2)\n",
        "        self.linear = nn.Linear(8*8, 32)\n",
        "        self.linear2 = nn.Linear(32, 1)\n",
        "        self.relu =nn.ReLU()\n",
        "\n",
        "    def forward(self, x):\n",
        "        x = self.conv(x)\n",
        "        x = self.max_pool(x) # out = 64x64x2\n",
        "        x = self.conv2(x)\n",
        "        x = self.max_pool(x) # out = 32x32x4\n",
        "        x = self.conv3(x)\n",
        "        x = self.max_pool(x) # out = 16x16x8\n",
        "        x = self.conv4(x)\n",
        "        x = self.max_pool(x) # out = 8x8x16\n",
        "        x = self.conv5(x)    # out = 8x8x8\n",
        "        x = self.conv6(x)    # out = 8x8x4\n",
        "        x = self.conv7(x)    # out = 8x8x2\n",
        "        x = self.conv8(x)    # out = 8x8x1\n",
        "        x = torch.flatten(x,1)\n",
        "        x = self.linear(x)\n",
        "        x = self.relu(x)\n",
        "        x = self.linear2(x)\n",
        "        return x.squeeze()"
      ]
    },
    {
      "cell_type": "code",
      "execution_count": 62,
      "id": "6aaa6f05",
      "metadata": {
        "scrolled": true,
        "id": "6aaa6f05"
      },
      "outputs": [],
      "source": [
        "def train(model, device, train_loader, optimizer, epoch, log_interval=100, verbose=True):\n",
        "    \n",
        "    model.train()\n",
        "\n",
        "    loss_v = 0\n",
        "\n",
        "    for batch_idx, (data, target) in enumerate(train_loader):\n",
        "    \n",
        "        data, target = data.to(device), target.to(device)\n",
        "        output = model(data)\n",
        "\n",
        "        loss = loss_func(output, target)\n",
        "        optimizer.zero_grad()\n",
        "        loss.backward()\n",
        "        optimizer.step()\n",
        "        if batch_idx % log_interval == 0 and verbose:\n",
        "            print('Train Epoch: {} [{}/{} ({:.0f}%)]\\tLoss: {:.6f}, Average: {:.6f}'.format(\n",
        "                epoch, batch_idx * len(data), len(train_loader.dataset),\n",
        "                100. * batch_idx / len(train_loader), loss.item(), loss.item()/ len(data)))\n",
        "        loss_v += loss.item()\n",
        "\n",
        "    loss_v /= len(train_loader.dataset)\n",
        "    print('\\nTrain set: Average loss: {:.4f}\\n'.format(loss_v))\n",
        " \n",
        "    return loss_v\n",
        "\n",
        "\n",
        "def test(model, device, test_loader):\n",
        "    model.eval()\n",
        "    test_loss = 0\n",
        "    correct = 0\n",
        "    with torch.no_grad():\n",
        "        for data, target in test_loader:\n",
        "            data, target = data.to(device), target.to(device)\n",
        "            output = model(data)\n",
        "            test_loss += loss_func(output, target)\n",
        "            output = torch.round(output)\n",
        "            correct += output.eq(target.view_as(output)).sum().item()\n",
        " \n",
        "  \n",
        "    test_loss /= len(test_loader.dataset)\n",
        "\n",
        "    print('\\nTest set: Average loss: {:.4f}, Accuracy: {}/{} ({:.0f}%)\\n'.format(\n",
        "        test_loss, correct, len(test_loader.dataset),\n",
        "        100. * correct / len(test_loader.dataset)))\n",
        "    \n",
        "    return test_loss"
      ]
    },
    {
      "cell_type": "code",
      "execution_count": null,
      "id": "4e730055",
      "metadata": {
        "scrolled": false,
        "colab": {
          "base_uri": "https://localhost:8080/"
        },
        "id": "4e730055",
        "outputId": "ce606c88-b461-4518-c2a2-dc5863257b4e"
      },
      "outputs": [
        {
          "output_type": "stream",
          "name": "stdout",
          "text": [
            "Parameters  5218\n",
            "Train Epoch: 0 [0/20000 (0%)]\tLoss: 1.254091, Average: 0.009798\n",
            "Train Epoch: 0 [12800/20000 (64%)]\tLoss: 0.656801, Average: 0.005131\n",
            "\n",
            "Train set: Average loss: 0.0048\n",
            "\n",
            "\n",
            "Test set: Average loss: 0.0042, Accuracy: 1010/2000 (50%)\n",
            "\n",
            "Train Epoch: 1 [0/20000 (0%)]\tLoss: 0.386211, Average: 0.003017\n",
            "Train Epoch: 1 [12800/20000 (64%)]\tLoss: 0.471504, Average: 0.003684\n",
            "\n",
            "Train set: Average loss: 0.0032\n",
            "\n",
            "\n",
            "Test set: Average loss: 0.0038, Accuracy: 1087/2000 (54%)\n",
            "\n",
            "Train Epoch: 2 [0/20000 (0%)]\tLoss: 0.332669, Average: 0.002599\n",
            "Train Epoch: 2 [12800/20000 (64%)]\tLoss: 0.442474, Average: 0.003457\n",
            "\n",
            "Train set: Average loss: 0.0030\n",
            "\n",
            "\n",
            "Test set: Average loss: 0.0035, Accuracy: 1132/2000 (57%)\n",
            "\n",
            "Train Epoch: 3 [0/20000 (0%)]\tLoss: 0.316489, Average: 0.002473\n",
            "Train Epoch: 3 [12800/20000 (64%)]\tLoss: 0.418270, Average: 0.003268\n",
            "\n",
            "Train set: Average loss: 0.0028\n",
            "\n",
            "\n",
            "Test set: Average loss: 0.0033, Accuracy: 1156/2000 (58%)\n",
            "\n",
            "Train Epoch: 4 [0/20000 (0%)]\tLoss: 0.295398, Average: 0.002308\n",
            "Train Epoch: 4 [12800/20000 (64%)]\tLoss: 0.390180, Average: 0.003048\n",
            "\n",
            "Train set: Average loss: 0.0026\n",
            "\n",
            "\n",
            "Test set: Average loss: 0.0030, Accuracy: 1231/2000 (62%)\n",
            "\n",
            "Train Epoch: 5 [0/20000 (0%)]\tLoss: 0.257088, Average: 0.002008\n",
            "Train Epoch: 5 [12800/20000 (64%)]\tLoss: 0.318788, Average: 0.002491\n",
            "\n",
            "Train set: Average loss: 0.0023\n",
            "\n",
            "\n",
            "Test set: Average loss: 0.0028, Accuracy: 1264/2000 (63%)\n",
            "\n",
            "Train Epoch: 6 [0/20000 (0%)]\tLoss: 0.227399, Average: 0.001777\n",
            "Train Epoch: 6 [12800/20000 (64%)]\tLoss: 0.257696, Average: 0.002013\n",
            "\n",
            "Train set: Average loss: 0.0020\n",
            "\n",
            "\n",
            "Test set: Average loss: 0.0024, Accuracy: 1355/2000 (68%)\n",
            "\n",
            "Train Epoch: 7 [0/20000 (0%)]\tLoss: 0.203990, Average: 0.001594\n",
            "Train Epoch: 7 [12800/20000 (64%)]\tLoss: 0.210546, Average: 0.001645\n",
            "\n",
            "Train set: Average loss: 0.0018\n",
            "\n",
            "\n",
            "Test set: Average loss: 0.0024, Accuracy: 1390/2000 (70%)\n",
            "\n",
            "Train Epoch: 8 [0/20000 (0%)]\tLoss: 0.203954, Average: 0.001593\n",
            "Train Epoch: 8 [12800/20000 (64%)]\tLoss: 0.181493, Average: 0.001418\n",
            "\n",
            "Train set: Average loss: 0.0016\n",
            "\n",
            "\n",
            "Test set: Average loss: 0.0020, Accuracy: 1488/2000 (74%)\n",
            "\n",
            "Train Epoch: 9 [0/20000 (0%)]\tLoss: 0.190612, Average: 0.001489\n",
            "Train Epoch: 9 [12800/20000 (64%)]\tLoss: 0.159043, Average: 0.001243\n",
            "\n",
            "Train set: Average loss: 0.0015\n",
            "\n",
            "\n",
            "Test set: Average loss: 0.0018, Accuracy: 1527/2000 (76%)\n",
            "\n",
            "Train Epoch: 10 [0/20000 (0%)]\tLoss: 0.181733, Average: 0.001420\n",
            "Train Epoch: 10 [12800/20000 (64%)]\tLoss: 0.147169, Average: 0.001150\n",
            "\n",
            "Train set: Average loss: 0.0014\n",
            "\n",
            "\n",
            "Test set: Average loss: 0.0017, Accuracy: 1564/2000 (78%)\n",
            "\n",
            "Train Epoch: 11 [0/20000 (0%)]\tLoss: 0.172497, Average: 0.001348\n",
            "Train Epoch: 11 [12800/20000 (64%)]\tLoss: 0.138518, Average: 0.001082\n",
            "\n",
            "Train set: Average loss: 0.0013\n",
            "\n",
            "\n",
            "Test set: Average loss: 0.0017, Accuracy: 1585/2000 (79%)\n",
            "\n",
            "Train Epoch: 12 [0/20000 (0%)]\tLoss: 0.163391, Average: 0.001276\n",
            "Train Epoch: 12 [12800/20000 (64%)]\tLoss: 0.128703, Average: 0.001005\n"
          ]
        }
      ],
      "source": [
        "use_cuda = True\n",
        "torch.manual_seed(33)\n",
        "\n",
        "if use_cuda:\n",
        "    device = torch.device(\"cuda\")\n",
        "else:\n",
        "    device = torch.device(\"cpu\")\n",
        "\n",
        "epochs = 20\n",
        "lr = 0.001\n",
        "\n",
        "model = FullyConvNet().to(device)\n",
        "\n",
        "pytorch_total_params = sum(p.numel() for p in model.parameters() if p.requires_grad) # !!!\n",
        "\n",
        "print(\"Parameters \", pytorch_total_params)\n",
        "optimizer = optim.Adam(model.parameters(), lr=lr)\n",
        "loss_func = torch.nn.MSELoss()\n",
        "\n",
        "# Guardam el valor de pèrdua promig de cada iteració (època)\n",
        "train_l = np.zeros((epochs))\n",
        "test_l = np.zeros((epochs))\n",
        "\n",
        "# Bucle d'entrenament\n",
        "for epoch in range(0, epochs):\n",
        "    train_l[epoch] = train(model, device, train_loader, optimizer, epoch)\n",
        "    test_l[epoch]  = test(model, device, test_loader)"
      ]
    }
  ],
  "metadata": {
    "kernelspec": {
      "display_name": "Python 3 (ipykernel)",
      "language": "python",
      "name": "python3"
    },
    "language_info": {
      "codemirror_mode": {
        "name": "ipython",
        "version": 3
      },
      "file_extension": ".py",
      "mimetype": "text/x-python",
      "name": "python",
      "nbconvert_exporter": "python",
      "pygments_lexer": "ipython3",
      "version": "3.9.13"
    },
    "colab": {
      "provenance": []
    },
    "accelerator": "GPU",
    "gpuClass": "standard"
  },
  "nbformat": 4,
  "nbformat_minor": 5
}